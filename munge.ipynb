{
 "cells": [
  {
   "cell_type": "markdown",
   "metadata": {},
   "source": [
    "# Data Processing \n",
    "10/2/24\n",
    "\n",
    "J. Chanenson"
   ]
  },
  {
   "cell_type": "markdown",
   "metadata": {},
   "source": [
    "## Convert Table To Useful Data"
   ]
  },
  {
   "cell_type": "code",
   "execution_count": 1,
   "metadata": {},
   "outputs": [],
   "source": [
    "import pandas as pd\n",
    "import os"
   ]
  },
  {
   "cell_type": "code",
   "execution_count": 2,
   "metadata": {},
   "outputs": [],
   "source": [
    "# Read the CSV file\n",
    "df = pd.read_csv(\"extracted_table_data.csv\")\n",
    "# Make output folder\n",
    "os.makedirs('reports', exist_ok=True) "
   ]
  },
  {
   "cell_type": "code",
   "execution_count": 3,
   "metadata": {},
   "outputs": [],
   "source": [
    "# Keep only the specified columns\n",
    "df = df[['Title', 'Report']]\n",
    "\n",
    "# Convert Title and Report to string\n",
    "df['Title'] = df['Title'].astype(str)\n",
    "df['Report'] = df['Report'].astype(str)\n",
    "\n",
    "# Extract the integer part for Title and create a new column for original title\n",
    "df['Original_Title'] = df['Title']\n",
    "df['Title'] = df['Title'].str.extract(r'(\\d+)-doc\\.pdf')[0].astype(int)\n",
    "\n",
    "# Split the Original_Title on \" - \" and take the last part (which should be the word count)\n",
    "word_counts = df['Original_Title'].str.split(' - ').str[-1].str.replace(' words', '')\n",
    "\n",
    "# Clean the word counts, replace any NaN values with '0', and convert to int\n",
    "df['Words'] = word_counts.fillna('0').str.replace(',', '').astype(int)\n",
    "\n",
    "\n",
    "# Optionally, drop the temporary 'Original_Title' column if you don't need it\n",
    "df.drop(columns=['Original_Title'], inplace=True)"
   ]
  },
  {
   "cell_type": "markdown",
   "metadata": {},
   "source": [
    "## Export Failed Papers and Papers That Trigger Review"
   ]
  },
  {
   "cell_type": "code",
   "execution_count": 4,
   "metadata": {},
   "outputs": [
    {
     "data": {
      "text/html": [
       "<div>\n",
       "<style scoped>\n",
       "    .dataframe tbody tr th:only-of-type {\n",
       "        vertical-align: middle;\n",
       "    }\n",
       "\n",
       "    .dataframe tbody tr th {\n",
       "        vertical-align: top;\n",
       "    }\n",
       "\n",
       "    .dataframe thead th {\n",
       "        text-align: right;\n",
       "    }\n",
       "</style>\n",
       "<table border=\"1\" class=\"dataframe\">\n",
       "  <thead>\n",
       "    <tr style=\"text-align: right;\">\n",
       "      <th></th>\n",
       "      <th>Title</th>\n",
       "      <th>Report</th>\n",
       "      <th>Words</th>\n",
       "    </tr>\n",
       "  </thead>\n",
       "  <tbody>\n",
       "    <tr>\n",
       "      <th>0</th>\n",
       "      <td>9183</td>\n",
       "      <td>Failed</td>\n",
       "      <td>0</td>\n",
       "    </tr>\n",
       "    <tr>\n",
       "      <th>1</th>\n",
       "      <td>9863</td>\n",
       "      <td>Failed</td>\n",
       "      <td>0</td>\n",
       "    </tr>\n",
       "    <tr>\n",
       "      <th>210</th>\n",
       "      <td>9863</td>\n",
       "      <td>Failed</td>\n",
       "      <td>0</td>\n",
       "    </tr>\n",
       "    <tr>\n",
       "      <th>228</th>\n",
       "      <td>9183</td>\n",
       "      <td>Failed</td>\n",
       "      <td>0</td>\n",
       "    </tr>\n",
       "  </tbody>\n",
       "</table>\n",
       "</div>"
      ],
      "text/plain": [
       "     Title  Report  Words\n",
       "0     9183  Failed      0\n",
       "1     9863  Failed      0\n",
       "210   9863  Failed      0\n",
       "228   9183  Failed      0"
      ]
     },
     "execution_count": 4,
     "metadata": {},
     "output_type": "execute_result"
    }
   ],
   "source": [
    "# Grab Failed Reports\n",
    "failed_reports = df[df['Report'] == 'Failed']\n",
    "\n",
    "# Save the failed reports to a CSV file\n",
    "failed_reports.to_csv('reports/failed_reports.csv', index=False)\n",
    "\n",
    "failed_reports.head()"
   ]
  },
  {
   "cell_type": "code",
   "execution_count": 5,
   "metadata": {},
   "outputs": [
    {
     "name": "stderr",
     "output_type": "stream",
     "text": [
      "C:\\Users\\Jake\\AppData\\Local\\Temp\\ipykernel_23056\\1654778527.py:9: SettingWithCopyWarning: \n",
      "A value is trying to be set on a copy of a slice from a DataFrame.\n",
      "Try using .loc[row_indexer,col_indexer] = value instead\n",
      "\n",
      "See the caveats in the documentation: https://pandas.pydata.org/pandas-docs/stable/user_guide/indexing.html#returning-a-view-versus-a-copy\n",
      "  percentage_df['Percentage'] = percentage_df['Report'].str.replace('%', '').astype(int)\n"
     ]
    },
    {
     "data": {
      "text/html": [
       "<div>\n",
       "<style scoped>\n",
       "    .dataframe tbody tr th:only-of-type {\n",
       "        vertical-align: middle;\n",
       "    }\n",
       "\n",
       "    .dataframe tbody tr th {\n",
       "        vertical-align: top;\n",
       "    }\n",
       "\n",
       "    .dataframe thead th {\n",
       "        text-align: right;\n",
       "    }\n",
       "</style>\n",
       "<table border=\"1\" class=\"dataframe\">\n",
       "  <thead>\n",
       "    <tr style=\"text-align: right;\">\n",
       "      <th></th>\n",
       "      <th>Title</th>\n",
       "      <th>Report</th>\n",
       "      <th>Words</th>\n",
       "      <th>Percentage</th>\n",
       "    </tr>\n",
       "  </thead>\n",
       "  <tbody>\n",
       "    <tr>\n",
       "      <th>20</th>\n",
       "      <td>2086</td>\n",
       "      <td>30%</td>\n",
       "      <td>9924</td>\n",
       "      <td>30</td>\n",
       "    </tr>\n",
       "    <tr>\n",
       "      <th>23</th>\n",
       "      <td>1462</td>\n",
       "      <td>31%</td>\n",
       "      <td>8207</td>\n",
       "      <td>31</td>\n",
       "    </tr>\n",
       "    <tr>\n",
       "      <th>26</th>\n",
       "      <td>3798</td>\n",
       "      <td>56%</td>\n",
       "      <td>21392</td>\n",
       "      <td>56</td>\n",
       "    </tr>\n",
       "    <tr>\n",
       "      <th>27</th>\n",
       "      <td>5623</td>\n",
       "      <td>33%</td>\n",
       "      <td>17809</td>\n",
       "      <td>33</td>\n",
       "    </tr>\n",
       "    <tr>\n",
       "      <th>28</th>\n",
       "      <td>4942</td>\n",
       "      <td>36%</td>\n",
       "      <td>19055</td>\n",
       "      <td>36</td>\n",
       "    </tr>\n",
       "  </tbody>\n",
       "</table>\n",
       "</div>"
      ],
      "text/plain": [
       "    Title Report  Words  Percentage\n",
       "20   2086    30%   9924          30\n",
       "23   1462    31%   8207          31\n",
       "26   3798    56%  21392          56\n",
       "27   5623    33%  17809          33\n",
       "28   4942    36%  19055          36"
      ]
     },
     "execution_count": 5,
     "metadata": {},
     "output_type": "execute_result"
    }
   ],
   "source": [
    "# Grab Papers Above % Sim Score \n",
    "\n",
    "# Define a cut-off threshold\n",
    "threshold = 30\n",
    "\n",
    "percentage_df = df[df['Report'].str.contains('%')]\n",
    "\n",
    "# Strip the '%' and convert to int, handling non-percentage rows\n",
    "percentage_df['Percentage'] = percentage_df['Report'].str.replace('%', '').astype(int)\n",
    "\n",
    "# Filter the DataFrame for percentages greater than or equal to the threshold\n",
    "threshold_reports = percentage_df[percentage_df['Percentage'] >= threshold]\n",
    "\n",
    "# Save the selected columns to a CSV file\n",
    "output_df = threshold_reports[['Title', 'Percentage']]\n",
    "output_df.to_csv('reports/exceeds_threashold.csv', index=False)\n",
    "\n",
    "threshold_reports.head()"
   ]
  },
  {
   "cell_type": "code",
   "execution_count": 6,
   "metadata": {},
   "outputs": [
    {
     "ename": "TypeError",
     "evalue": "object of type 'int' has no len()",
     "output_type": "error",
     "traceback": [
      "\u001b[1;31m---------------------------------------------------------------------------\u001b[0m",
      "\u001b[1;31mTypeError\u001b[0m                                 Traceback (most recent call last)",
      "Cell \u001b[1;32mIn[6], line 11\u001b[0m\n\u001b[0;32m      5\u001b[0m unique_threshold_count \u001b[38;5;241m=\u001b[39m threshold_reports[\u001b[38;5;124m'\u001b[39m\u001b[38;5;124mTitle\u001b[39m\u001b[38;5;124m'\u001b[39m]\u001b[38;5;241m.\u001b[39mnunique()\n\u001b[0;32m      6\u001b[0m total_unique_rows \u001b[38;5;241m=\u001b[39m df[\u001b[38;5;124m'\u001b[39m\u001b[38;5;124mTitle\u001b[39m\u001b[38;5;124m'\u001b[39m]\u001b[38;5;241m.\u001b[39mnunique()\n\u001b[0;32m      8\u001b[0m combined_message \u001b[38;5;241m=\u001b[39m (\u001b[38;5;124mf\u001b[39m\u001b[38;5;124m\"\u001b[39m\u001b[38;5;124mReport generated on: \u001b[39m\u001b[38;5;132;01m{\u001b[39;00mcurrent_datetime\u001b[38;5;132;01m}\u001b[39;00m\u001b[38;5;130;01m\\n\u001b[39;00m\u001b[38;5;124m\"\u001b[39m\n\u001b[0;32m      9\u001b[0m                     \u001b[38;5;124mf\u001b[39m\u001b[38;5;124m\"\u001b[39m\u001b[38;5;124mTotal unique rows in the original DataFrame: \u001b[39m\u001b[38;5;132;01m{\u001b[39;00mtotal_unique_rows\u001b[38;5;132;01m}\u001b[39;00m\u001b[38;5;130;01m\\n\u001b[39;00m\u001b[38;5;124m\"\u001b[39m\n\u001b[0;32m     10\u001b[0m                     \u001b[38;5;124mf\u001b[39m\u001b[38;5;124m\"\u001b[39m\u001b[38;5;132;01m{\u001b[39;00munique_failed_count\u001b[38;5;132;01m}\u001b[39;00m\u001b[38;5;124m unique papers failed to be checked\u001b[39m\u001b[38;5;130;01m\\n\u001b[39;00m\u001b[38;5;124m\"\u001b[39m\n\u001b[1;32m---> 11\u001b[0m                     \u001b[38;5;124mf\u001b[39m\u001b[38;5;124m\"\u001b[39m\u001b[38;5;132;01m{\u001b[39;00m\u001b[38;5;28;43mlen\u001b[39;49m\u001b[43m(\u001b[49m\u001b[43munique_threshold_count\u001b[49m\u001b[43m)\u001b[49m\u001b[38;5;132;01m}\u001b[39;00m\u001b[38;5;124m/\u001b[39m\u001b[38;5;132;01m{\u001b[39;00m\u001b[38;5;28mlen\u001b[39m(total_unique_rows)\u001b[38;5;132;01m}\u001b[39;00m\u001b[38;5;124m papers equal or exceed a sim threshold of \u001b[39m\u001b[38;5;132;01m{\u001b[39;00mthreshold\u001b[38;5;132;01m}\u001b[39;00m\u001b[38;5;124m\"\u001b[39m)\n\u001b[0;32m     13\u001b[0m \u001b[38;5;66;03m# Write the combined message to a text file\u001b[39;00m\n\u001b[0;32m     14\u001b[0m \u001b[38;5;28;01mwith\u001b[39;00m \u001b[38;5;28mopen\u001b[39m(\u001b[38;5;124m'\u001b[39m\u001b[38;5;124mreports/report_summary.txt\u001b[39m\u001b[38;5;124m'\u001b[39m, \u001b[38;5;124m'\u001b[39m\u001b[38;5;124mw\u001b[39m\u001b[38;5;124m'\u001b[39m) \u001b[38;5;28;01mas\u001b[39;00m f:\n",
      "\u001b[1;31mTypeError\u001b[0m: object of type 'int' has no len()"
     ]
    }
   ],
   "source": [
    "from datetime import datetime\n",
    "# Prepare combined message with date-time stamp and total unique rows\n",
    "current_datetime = datetime.now().strftime(\"%Y-%m-%d %H:%M:%S\")\n",
    "unique_failed_count = failed_reports['Title'].nunique()\n",
    "unique_threshold_count = threshold_reports['Title'].nunique()\n",
    "total_unique_rows = df['Title'].nunique()\n",
    "\n",
    "combined_message = (f\"Report generated on: {current_datetime}\\n\"\n",
    "                    f\"Total unique rows in the original DataFrame: {total_unique_rows}\\n\"\n",
    "                    f\"{unique_failed_count} unique papers failed to be checked\\n\"\n",
    "                    f\"{(unique_threshold_count)}/{(total_unique_rows)} papers equal or exceed a sim threshold of {threshold}\")\n",
    "\n",
    "# Write the combined message to a text file\n",
    "with open('reports/report_summary.txt', 'w') as f:\n",
    "    f.write(combined_message)\n",
    "\n",
    "print(combined_message)"
   ]
  }
 ],
 "metadata": {
  "kernelspec": {
   "display_name": "Python 3",
   "language": "python",
   "name": "python3"
  },
  "language_info": {
   "codemirror_mode": {
    "name": "ipython",
    "version": 3
   },
   "file_extension": ".py",
   "mimetype": "text/x-python",
   "name": "python",
   "nbconvert_exporter": "python",
   "pygments_lexer": "ipython3",
   "version": "3.11.2"
  }
 },
 "nbformat": 4,
 "nbformat_minor": 2
}
