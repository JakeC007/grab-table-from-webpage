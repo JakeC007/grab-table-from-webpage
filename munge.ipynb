{
 "cells": [
  {
   "cell_type": "markdown",
   "metadata": {},
   "source": [
    "# Data Processing \n",
    "10/2/24\n",
    "\n",
    "J. Chanenson"
   ]
  },
  {
   "cell_type": "markdown",
   "metadata": {},
   "source": [
    "## Convert Table To Useful Data"
   ]
  },
  {
   "cell_type": "code",
   "execution_count": 1,
   "metadata": {},
   "outputs": [],
   "source": [
    "import pandas as pd\n",
    "import os"
   ]
  },
  {
   "cell_type": "code",
   "execution_count": 2,
   "metadata": {},
   "outputs": [],
   "source": [
    "# Read the CSV file\n",
    "df = pd.read_csv(\"extracted_table_data.csv\")\n",
    "# Make output folder\n",
    "os.makedirs('reports', exist_ok=True) "
   ]
  },
  {
   "cell_type": "code",
   "execution_count": 3,
   "metadata": {},
   "outputs": [],
   "source": [
    "# Keep only the specified columns\n",
    "df = df[['Title', 'Report']]\n",
    "\n",
    "# Convert Title and Report to string\n",
    "df['Title'] = df['Title'].astype(str)\n",
    "df['Report'] = df['Report'].astype(str)\n",
    "\n",
    "# Extract the integer part for Title and create a new column for original title\n",
    "df['Original_Title'] = df['Title']\n",
    "df['Title'] = df['Title'].str.extract(r'(\\d+)-doc\\.pdf')[0].astype(int)\n",
    "\n",
    "# Split the Original_Title on \" - \" and take the last part (which should be the word count)\n",
    "word_counts = df['Original_Title'].str.split(' - ').str[-1].str.replace(' words', '')\n",
    "\n",
    "# Clean the word counts, replace any NaN values with '0', and convert to int\n",
    "df['Words'] = word_counts.fillna('0').str.replace(',', '').astype(int)\n",
    "\n",
    "\n",
    "# Optionally, drop the temporary 'Original_Title' column if you don't need it\n",
    "df.drop(columns=['Original_Title'], inplace=True)"
   ]
  },
  {
   "cell_type": "markdown",
   "metadata": {},
   "source": [
    "## Export Failed Papers and Papers That Trigger Review"
   ]
  },
  {
   "cell_type": "code",
   "execution_count": null,
   "metadata": {},
   "outputs": [],
   "source": [
    "# Grab Failed Reports\n",
    "failed_reports = df[df['Report'] == 'Failed'].drop_duplicates()\n",
    "\n",
    "# Save the failed reports to a CSV file\n",
    "failed_reports.to_csv('reports/failed_reports.csv', index=False)\n",
    "\n",
    "failed_reports.head()"
   ]
  },
  {
   "cell_type": "code",
   "execution_count": null,
   "metadata": {},
   "outputs": [],
   "source": [
    "# Grab Papers Above % Sim Score \n",
    "\n",
    "# Define a cut-off threshold\n",
    "threshold = 30\n",
    "\n",
    "percentage_df = df[df['Report'].str.contains('%')]\n",
    "\n",
    "# Strip the '%' and convert to int, handling non-percentage rows\n",
    "percentage_df['Percentage'] = percentage_df['Report'].str.replace('%', '').astype(int)\n",
    "\n",
    "# Filter the DataFrame for percentages greater than or equal to the threshold\n",
    "threshold_reports = percentage_df[percentage_df['Percentage'] >= threshold]\n",
    "\n",
    "# Save the selected columns to a CSV file\n",
    "output_df = threshold_reports[['Title', 'Percentage']].drop_duplicates()\n",
    "output_df.to_csv('reports/exceeds_threashold.csv', index=False)\n",
    "\n",
    "threshold_reports.head()"
   ]
  },
  {
   "cell_type": "code",
   "execution_count": null,
   "metadata": {},
   "outputs": [],
   "source": [
    "from datetime import datetime\n",
    "# Prepare combined message with date-time stamp and total unique rows\n",
    "current_datetime = datetime.now().strftime(\"%Y-%m-%d %H:%M:%S\")\n",
    "unique_failed_count = failed_reports['Title'].nunique()\n",
    "unique_threshold_count = threshold_reports['Title'].nunique()\n",
    "total_unique_rows = df['Title'].nunique()\n",
    "\n",
    "combined_message = (f\"Report generated on: {current_datetime}\\n\"\n",
    "                    f\"Total unique rows in the original DataFrame: {total_unique_rows}\\n\"\n",
    "                    f\"{unique_failed_count} unique papers failed to be checked\\n\"\n",
    "                    f\"{(unique_threshold_count)}/{(total_unique_rows)} papers equal or exceed a sim threshold of {threshold}\")\n",
    "\n",
    "# Write the combined message to a text file\n",
    "with open('reports/report_summary.txt', 'w') as f:\n",
    "    f.write(combined_message)\n",
    "\n",
    "print(combined_message)"
   ]
  }
 ],
 "metadata": {
  "kernelspec": {
   "display_name": "Python 3",
   "language": "python",
   "name": "python3"
  },
  "language_info": {
   "codemirror_mode": {
    "name": "ipython",
    "version": 3
   },
   "file_extension": ".py",
   "mimetype": "text/x-python",
   "name": "python",
   "nbconvert_exporter": "python",
   "pygments_lexer": "ipython3",
   "version": "3.11.2"
  }
 },
 "nbformat": 4,
 "nbformat_minor": 2
}
