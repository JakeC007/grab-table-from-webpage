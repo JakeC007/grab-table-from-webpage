{
 "cells": [
  {
   "cell_type": "markdown",
   "metadata": {},
   "source": [
    "# Check Missing\n",
    "\n",
    "To see if you forgot to upload any files.\n",
    "\n",
    "This script is designed to compare files in a specified directory against a list of unique file names\n",
    "provided in a CSV file named 'unique_all.csv'. The script identifies files in the directory that are\n",
    "not present in the CSV list and copies them to a designated destination folder.\n",
    "\n",
    "10/2/2024\n",
    "\n",
    "J. Chanenson"
   ]
  },
  {
   "cell_type": "code",
   "execution_count": 1,
   "metadata": {},
   "outputs": [],
   "source": [
    "import os\n",
    "import pandas as pd\n",
    "import shutil"
   ]
  },
  {
   "cell_type": "code",
   "execution_count": 2,
   "metadata": {},
   "outputs": [],
   "source": [
    "# Define the directory containing the files and the CSV file\n",
    "directory = r'path/to/your/directory_with_unzipped_pdfs' #edit me\n",
    "csv_file_path = r'reports\\unique_all.csv'\n",
    "destination_folder = r'path/to/your/output'#edit me"
   ]
  },
  {
   "cell_type": "code",
   "execution_count": null,
   "metadata": {},
   "outputs": [],
   "source": [
    "# Step 1: Get a list of all file names in the directory\n",
    "file_names = os.listdir(directory)\n",
    "\n",
    "# Step 2: Read the CSV file\n",
    "unique_files_df = pd.read_csv(csv_file_path)\n",
    "\n",
    "# Assuming the column in the CSV is named 'filename'\n",
    "unique_files_list = unique_files_df['file_string'].tolist()\n",
    "\n",
    "# Step 3: Find files that are not in the CSV\n",
    "files_to_copy = [file for file in file_names if file not in unique_files_list]\n",
    "\n",
    "# Step 4: Copy the files to the new folder\n",
    "os.makedirs(destination_folder, exist_ok=True)  # Create destination folder if it doesn't exist\n",
    "\n",
    "for file in files_to_copy:\n",
    "    shutil.copy(os.path.join(directory, file), destination_folder)\n",
    "\n",
    "print(f\"Copied {len(files_to_copy)} files to {destination_folder}.\")\n"
   ]
  }
 ],
 "metadata": {
  "kernelspec": {
   "display_name": "Python 3",
   "language": "python",
   "name": "python3"
  },
  "language_info": {
   "codemirror_mode": {
    "name": "ipython",
    "version": 3
   },
   "file_extension": ".py",
   "mimetype": "text/x-python",
   "name": "python",
   "nbconvert_exporter": "python",
   "pygments_lexer": "ipython3",
   "version": "3.11.2"
  }
 },
 "nbformat": 4,
 "nbformat_minor": 2
}
